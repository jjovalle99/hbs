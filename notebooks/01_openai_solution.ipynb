{
 "cells": [
  {
   "cell_type": "code",
   "execution_count": 1,
   "metadata": {},
   "outputs": [],
   "source": [
    "import pandas as pd\n",
    "import tiktoken\n",
    "from openai import AsyncOpenAI\n",
    "from pathlib import Path\n",
    "import numpy as np\n",
    "\n",
    "from sklearn.metrics.pairwise import cosine_similarity\n",
    "\n",
    "from src.data import load_data\n",
    "from src.settings import Settings\n",
    "from src.utils import gen_batches"
   ]
  },
  {
   "cell_type": "code",
   "execution_count": 2,
   "metadata": {},
   "outputs": [],
   "source": [
    "DATA_PATH: Path = Path(\"../data\")\n",
    "SETTINGS: Settings = Settings()"
   ]
  },
  {
   "cell_type": "markdown",
   "metadata": {},
   "source": [
    "#### Load data"
   ]
  },
  {
   "cell_type": "code",
   "execution_count": 3,
   "metadata": {},
   "outputs": [
    {
     "name": "stdout",
     "output_type": "stream",
     "text": [
      "QueryDF: Rows [480], Columns: [3]\n",
      "ProductDF: Rows [42,994], Columns: [9]\n",
      "LabelDF: Rows [233,448], Columns: [4]\n"
     ]
    }
   ],
   "source": [
    "query_df: pd.DataFrame\n",
    "product_df: pd.DataFrame\n",
    "label_df: pd.DataFrame\n",
    "query_df, product_df, label_df= load_data(datapath=DATA_PATH)"
   ]
  },
  {
   "cell_type": "markdown",
   "metadata": {},
   "source": [
    "#### Select product name or combination of features."
   ]
  },
  {
   "cell_type": "code",
   "execution_count": 4,
   "metadata": {},
   "outputs": [],
   "source": [
    "embedding_model: str = \"text-embedding-3-small\"\n",
    "tokenizer: tiktoken.Encoding = tiktoken.encoding_for_model(model_name=embedding_model)\n",
    "price_per_million_tokens: float = 0.13"
   ]
  },
  {
   "cell_type": "code",
   "execution_count": 5,
   "metadata": {},
   "outputs": [
    {
     "name": "stdout",
     "output_type": "stream",
     "text": [
      "Cost of generating the embeddings of all the products: 0.05395585 USD\n"
     ]
    }
   ],
   "source": [
    "total_cost: float = (len(tokenizer.encode(text=\"\".join(product_df[\"product_name\"].tolist()))) * price_per_million_tokens) / 1e6\n",
    "print(f\"Cost of generating the embeddings of all the products: {total_cost} USD\")"
   ]
  },
  {
   "cell_type": "markdown",
   "metadata": {},
   "source": [
    "#### OpenAI embeddings"
   ]
  },
  {
   "cell_type": "code",
   "execution_count": 6,
   "metadata": {},
   "outputs": [],
   "source": [
    "client: AsyncOpenAI = AsyncOpenAI(api_key=SETTINGS.openai_api_key)"
   ]
  },
  {
   "cell_type": "code",
   "execution_count": 7,
   "metadata": {},
   "outputs": [],
   "source": [
    "results: list = []\n",
    "batch_size: int = 1_024\n",
    "total: int = len(product_df[\"product_name\"].tolist()) // batch_size + 1"
   ]
  },
  {
   "cell_type": "code",
   "execution_count": 8,
   "metadata": {},
   "outputs": [
    {
     "data": {
      "text/html": [
       "<div>\n",
       "<style scoped>\n",
       "    .dataframe tbody tr th:only-of-type {\n",
       "        vertical-align: middle;\n",
       "    }\n",
       "\n",
       "    .dataframe tbody tr th {\n",
       "        vertical-align: top;\n",
       "    }\n",
       "\n",
       "    .dataframe thead th {\n",
       "        text-align: right;\n",
       "    }\n",
       "</style>\n",
       "<table border=\"1\" class=\"dataframe\">\n",
       "  <thead>\n",
       "    <tr style=\"text-align: right;\">\n",
       "      <th></th>\n",
       "      <th>query_id</th>\n",
       "      <th>query</th>\n",
       "      <th>query_class</th>\n",
       "    </tr>\n",
       "  </thead>\n",
       "  <tbody>\n",
       "    <tr>\n",
       "      <th>0</th>\n",
       "      <td>0</td>\n",
       "      <td>salon chair</td>\n",
       "      <td>Massage Chairs</td>\n",
       "    </tr>\n",
       "    <tr>\n",
       "      <th>1</th>\n",
       "      <td>1</td>\n",
       "      <td>smart coffee table</td>\n",
       "      <td>Coffee &amp; Cocktail Tables</td>\n",
       "    </tr>\n",
       "    <tr>\n",
       "      <th>2</th>\n",
       "      <td>2</td>\n",
       "      <td>dinosaur</td>\n",
       "      <td>Kids Wall Décor</td>\n",
       "    </tr>\n",
       "    <tr>\n",
       "      <th>3</th>\n",
       "      <td>3</td>\n",
       "      <td>turquoise pillows</td>\n",
       "      <td>Accent Pillows</td>\n",
       "    </tr>\n",
       "    <tr>\n",
       "      <th>4</th>\n",
       "      <td>4</td>\n",
       "      <td>chair and a half recliner</td>\n",
       "      <td>Recliners</td>\n",
       "    </tr>\n",
       "    <tr>\n",
       "      <th>...</th>\n",
       "      <td>...</td>\n",
       "      <td>...</td>\n",
       "      <td>...</td>\n",
       "    </tr>\n",
       "    <tr>\n",
       "      <th>475</th>\n",
       "      <td>483</td>\n",
       "      <td>rustic twig</td>\n",
       "      <td>Faux Plants and Trees</td>\n",
       "    </tr>\n",
       "    <tr>\n",
       "      <th>476</th>\n",
       "      <td>484</td>\n",
       "      <td>nespresso vertuo next premium by breville with...</td>\n",
       "      <td>Espresso Machines</td>\n",
       "    </tr>\n",
       "    <tr>\n",
       "      <th>477</th>\n",
       "      <td>485</td>\n",
       "      <td>pedistole sink</td>\n",
       "      <td>Kitchen Sinks</td>\n",
       "    </tr>\n",
       "    <tr>\n",
       "      <th>478</th>\n",
       "      <td>486</td>\n",
       "      <td>54 in bench cushion</td>\n",
       "      <td>Furniture Cushions</td>\n",
       "    </tr>\n",
       "    <tr>\n",
       "      <th>479</th>\n",
       "      <td>487</td>\n",
       "      <td>rack glass</td>\n",
       "      <td>Candle Holders</td>\n",
       "    </tr>\n",
       "  </tbody>\n",
       "</table>\n",
       "<p>480 rows × 3 columns</p>\n",
       "</div>"
      ],
      "text/plain": [
       "     query_id                                              query  \\\n",
       "0           0                                        salon chair   \n",
       "1           1                                 smart coffee table   \n",
       "2           2                                           dinosaur   \n",
       "3           3                                  turquoise pillows   \n",
       "4           4                          chair and a half recliner   \n",
       "..        ...                                                ...   \n",
       "475       483                                        rustic twig   \n",
       "476       484  nespresso vertuo next premium by breville with...   \n",
       "477       485                                     pedistole sink   \n",
       "478       486                                54 in bench cushion   \n",
       "479       487                                         rack glass   \n",
       "\n",
       "                  query_class  \n",
       "0              Massage Chairs  \n",
       "1    Coffee & Cocktail Tables  \n",
       "2             Kids Wall Décor  \n",
       "3              Accent Pillows  \n",
       "4                   Recliners  \n",
       "..                        ...  \n",
       "475     Faux Plants and Trees  \n",
       "476         Espresso Machines  \n",
       "477             Kitchen Sinks  \n",
       "478        Furniture Cushions  \n",
       "479            Candle Holders  \n",
       "\n",
       "[480 rows x 3 columns]"
      ]
     },
     "execution_count": 8,
     "metadata": {},
     "output_type": "execute_result"
    }
   ],
   "source": [
    "query_df"
   ]
  },
  {
   "cell_type": "code",
   "execution_count": 8,
   "metadata": {},
   "outputs": [
    {
     "name": "stdout",
     "output_type": "stream",
     "text": [
      "Batch 20/42 processing...\n",
      "Batch 20/42 done!\n",
      "Batch 40/42 processing...\n",
      "Batch 40/42 done!\n",
      "Batch 42/42 processing...\n",
      "Batch 42/42 done!\n"
     ]
    }
   ],
   "source": [
    "for idx, batch in enumerate(gen_batches(iterable=product_df[\"product_name\"].tolist(), n=batch_size), start=1):\n",
    "\n",
    "    if any([idx % 20 == 0, idx // total == 1]):\n",
    "        print(f\"Batch {idx}/{total} processing...\")\n",
    "\n",
    "    vectors: list = await client.embeddings.create(\n",
    "        model=embedding_model,\n",
    "        input=batch\n",
    "    )\n",
    "    results.extend([embedding.embedding for embedding in vectors.data])\n",
    "\n",
    "    if any([idx % 20 == 0, idx // total == 1]):\n",
    "        print(f\"Batch {idx}/{total} done!\")"
   ]
  },
  {
   "cell_type": "code",
   "execution_count": 43,
   "metadata": {},
   "outputs": [],
   "source": [
    "np_result = np.array(results)"
   ]
  },
  {
   "cell_type": "code",
   "execution_count": 44,
   "metadata": {},
   "outputs": [],
   "source": [
    "query = \"salon chair\"\n",
    "query_embedded = await client.embeddings.create(model=embedding_model, input=query)\n",
    "# query_embedded.data[0].embedding"
   ]
  },
  {
   "cell_type": "code",
   "execution_count": 46,
   "metadata": {},
   "outputs": [],
   "source": [
    "cosine_similarities = cosine_similarity(\n",
    "    np.array(query_embedded.data[0].embedding).reshape(1, -1), np_result\n",
    ")"
   ]
  },
  {
   "cell_type": "code",
   "execution_count": 64,
   "metadata": {},
   "outputs": [],
   "source": [
    "preds = cosine_similarities.flatten().argsort()[-10:][::-1]"
   ]
  },
  {
   "cell_type": "code",
   "execution_count": 65,
   "metadata": {},
   "outputs": [],
   "source": [
    "actual = label_df[(label_df[\"query_id\"] == 0) & (label_df[\"label\"] == \"Exact\")][\"product_id\"].tolist()"
   ]
  },
  {
   "cell_type": "code",
   "execution_count": 66,
   "metadata": {},
   "outputs": [],
   "source": [
    "hits = 0\n",
    "for pred in preds.flatten():\n",
    "    if pred in actual:\n",
    "        hits += 1"
   ]
  },
  {
   "cell_type": "code",
   "execution_count": null,
   "metadata": {},
   "outputs": [],
   "source": [
    "import numpy as np\n",
    "from typing import List, Dict\n",
    "\n",
    "def get_top_k_relevant_products(\n",
    "    query: str,\n",
    "    embeddings_map: Dict[str, List[float]],\n",
    "    k: int = 5\n",
    ") -> List[str]:\n",
    "    \"\"\"\n",
    "    Find the top k product IDs most relevant to the given query.\n",
    "\n",
    "    Args:\n",
    "    query (str): The input query string.\n",
    "    embeddings_map (Dict[str, List[float]]): A dictionary mapping product IDs to their embeddings.\n",
    "    k (int): The number of top relevant products to return. Default is 5.\n",
    "\n",
    "    Returns:\n",
    "    List[str]: A list of the top k relevant product IDs.\n",
    "    \"\"\"\n",
    "    # Convert embeddings_map to a more efficient structure\n",
    "    product_ids = np.array(list(embeddings_map.keys()))\n",
    "    embeddings = np.array(list(embeddings_map.values()))\n",
    "\n",
    "    # Transform query to embedding (placeholder)\n",
    "    query_embedding = np.random.rand(3072)  # Replace with actual transformation\n",
    "\n",
    "    # Compute cosine similarity between query and all product embeddings\n",
    "    similarity_scores = np.dot(embeddings, query_embedding) / (\n",
    "        np.linalg.norm(embeddings, axis=1) * np.linalg.norm(query_embedding)\n",
    "    )\n",
    "\n",
    "    # Get indices of top k similar products\n",
    "    top_k_indices = np.argsort(similarity_scores)[-k:][::-1]\n",
    "\n",
    "    # Return the corresponding product IDs\n",
    "    return product_ids[top_k_indices].tolist()"
   ]
  }
 ],
 "metadata": {
  "kernelspec": {
   "display_name": ".venv",
   "language": "python",
   "name": "python3"
  },
  "language_info": {
   "codemirror_mode": {
    "name": "ipython",
    "version": 3
   },
   "file_extension": ".py",
   "mimetype": "text/x-python",
   "name": "python",
   "nbconvert_exporter": "python",
   "pygments_lexer": "ipython3",
   "version": "3.11.7"
  }
 },
 "nbformat": 4,
 "nbformat_minor": 2
}
